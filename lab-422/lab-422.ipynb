{
 "cells": [
  {
   "cell_type": "markdown",
   "metadata": {},
   "source": [
    "## Лабораторная работа 4.2.2\n",
    "# Интерферометр Жамена"
   ]
  },
  {
   "cell_type": "code",
   "execution_count": 4,
   "metadata": {},
   "outputs": [],
   "source": [
    "import numpy as np\n",
    "import scipy as ps\n",
    "import pandas as pd\n",
    "import math\n",
    "import matplotlib.pyplot as plt\n",
    "%matplotlib inline"
   ]
  },
  {
   "cell_type": "markdown",
   "metadata": {},
   "source": [
    "### Калибровка компенсатора"
   ]
  },
  {
   "cell_type": "markdown",
   "metadata": {},
   "source": [
    "Выполним калибровку компенсатора, выделив узкий интервал длин волн с помощью светофильтра."
   ]
  },
  {
   "cell_type": "code",
   "execution_count": 5,
   "metadata": {},
   "outputs": [
    {
     "data": {
      "text/html": [
       "<div>\n",
       "<style scoped>\n",
       "    .dataframe tbody tr th:only-of-type {\n",
       "        vertical-align: middle;\n",
       "    }\n",
       "\n",
       "    .dataframe tbody tr th {\n",
       "        vertical-align: top;\n",
       "    }\n",
       "\n",
       "    .dataframe thead th {\n",
       "        text-align: right;\n",
       "    }\n",
       "</style>\n",
       "<table border=\"1\" class=\"dataframe\">\n",
       "  <thead>\n",
       "    <tr style=\"text-align: right;\">\n",
       "      <th></th>\n",
       "      <th>$z_m, мм$</th>\n",
       "    </tr>\n",
       "  </thead>\n",
       "  <tbody>\n",
       "    <tr>\n",
       "      <th>0</th>\n",
       "      <td>15.27</td>\n",
       "    </tr>\n",
       "    <tr>\n",
       "      <th>1</th>\n",
       "      <td>15.31</td>\n",
       "    </tr>\n",
       "    <tr>\n",
       "      <th>2</th>\n",
       "      <td>15.36</td>\n",
       "    </tr>\n",
       "    <tr>\n",
       "      <th>3</th>\n",
       "      <td>15.42</td>\n",
       "    </tr>\n",
       "    <tr>\n",
       "      <th>4</th>\n",
       "      <td>15.47</td>\n",
       "    </tr>\n",
       "    <tr>\n",
       "      <th>5</th>\n",
       "      <td>15.52</td>\n",
       "    </tr>\n",
       "    <tr>\n",
       "      <th>6</th>\n",
       "      <td>15.57</td>\n",
       "    </tr>\n",
       "    <tr>\n",
       "      <th>7</th>\n",
       "      <td>15.64</td>\n",
       "    </tr>\n",
       "    <tr>\n",
       "      <th>8</th>\n",
       "      <td>15.69</td>\n",
       "    </tr>\n",
       "    <tr>\n",
       "      <th>9</th>\n",
       "      <td>15.74</td>\n",
       "    </tr>\n",
       "    <tr>\n",
       "      <th>10</th>\n",
       "      <td>15.79</td>\n",
       "    </tr>\n",
       "  </tbody>\n",
       "</table>\n",
       "</div>"
      ],
      "text/plain": [
       "    $z_m, мм$\n",
       "0       15.27\n",
       "1       15.31\n",
       "2       15.36\n",
       "3       15.42\n",
       "4       15.47\n",
       "5       15.52\n",
       "6       15.57\n",
       "7       15.64\n",
       "8       15.69\n",
       "9       15.74\n",
       "10      15.79"
      ]
     },
     "execution_count": 5,
     "metadata": {},
     "output_type": "execute_result"
    }
   ],
   "source": [
    "data1 = pd.read_excel('lab-422.xlsx', 'table-1')\n",
    "pd.DataFrame(data1)"
   ]
  },
  {
   "cell_type": "code",
   "execution_count": 6,
   "metadata": {},
   "outputs": [],
   "source": [
    "l = 100      # Длина кюветы (мм)\n",
    "Lambda = 650 # Длина волны (нм)"
   ]
  },
  {
   "cell_type": "markdown",
   "metadata": {},
   "source": [
    "По полученным значениям построим калибровочный график $z_m = f(m)$."
   ]
  },
  {
   "cell_type": "code",
   "execution_count": 8,
   "metadata": {},
   "outputs": [
    {
     "data": {
      "image/png": "[encoded data removed]",
      "text/plain": [
       "<matplotlib.figure.Figure at 0x7f3912989e48>"
      ]
     },
     "metadata": {},
     "output_type": "display_data"
    }
   ],
   "source": [
    "x1 = np.array(range(11))\n",
    "y1 = np.array(data1.values[:, 0], dtype = float)\n",
    "\n",
    "k1, b1 = np.polyfit(x1, y1, deg = 1)\n",
    "\n",
    "plt.figure(figsize = (10, 6))\n",
    "plt.title('График зависимости $z_m = f(m)$', fontsize=16)\n",
    "plt.ylabel('$z_m, мм$', fontsize=12)\n",
    "plt.xlabel('$m$', fontsize=12)\n",
    "\n",
    "plt.scatter(x1, y1)\n",
    "plt.plot(x1, x1 * k1 + b1)\n",
    "plt.grid(linestyle = '--')\n",
    "\n",
    "plt.show()"
   ]
  },
  {
   "cell_type": "code",
   "execution_count": 9,
   "metadata": {},
   "outputs": [
    {
     "name": "stdout",
     "output_type": "stream",
     "text": [
      "k1 = 0.053181818181818497 мм \n",
      "b1 = 15.259545454545451 мм\n"
     ]
    }
   ],
   "source": [
    "print('k1 =', k1, 'мм', '\\nb1 =', b1, 'мм')"
   ]
  },
  {
   "cell_type": "markdown",
   "metadata": {},
   "source": [
    "Рассчитаем среднее расстояние между соседними интерференционными полосами."
   ]
  },
  {
   "cell_type": "code",
   "execution_count": 10,
   "metadata": {},
   "outputs": [
    {
     "name": "stdout",
     "output_type": "stream",
     "text": [
      "0.04727272727272724 мм\n"
     ]
    }
   ],
   "source": [
    "distance = 0\n",
    "for i in range(10):\n",
    "    distance += math.fabs(y1[i] - y1[i + 1])\n",
    "distance /= 11\n",
    "print(distance, 'мм')"
   ]
  },
  {
   "cell_type": "markdown",
   "metadata": {},
   "source": [
    "### Зависимость  $\\delta n$ от  $P$ воздуха"
   ]
  },
  {
   "cell_type": "markdown",
   "metadata": {},
   "source": [
    "Снимем зависимость показаний компенсатора $\\Delta z$ от перепада давлений $\\Delta P$ и построим по полученным данным график $\\Delta z = f(\\Delta P)$."
   ]
  },
  {
   "cell_type": "code",
   "execution_count": 11,
   "metadata": {},
   "outputs": [
    {
     "data": {
      "text/html": [
       "<div>\n",
       "<style scoped>\n",
       "    .dataframe tbody tr th:only-of-type {\n",
       "        vertical-align: middle;\n",
       "    }\n",
       "\n",
       "    .dataframe tbody tr th {\n",
       "        vertical-align: top;\n",
       "    }\n",
       "\n",
       "    .dataframe thead th {\n",
       "        text-align: right;\n",
       "    }\n",
       "</style>\n",
       "<table border=\"1\" class=\"dataframe\">\n",
       "  <thead>\n",
       "    <tr style=\"text-align: right;\">\n",
       "      <th></th>\n",
       "      <th>$\\Delta P, мм  H_{2}O$</th>\n",
       "      <th>$z, мм$</th>\n",
       "    </tr>\n",
       "  </thead>\n",
       "  <tbody>\n",
       "    <tr>\n",
       "      <th>0</th>\n",
       "      <td>-100</td>\n",
       "      <td>15.27</td>\n",
       "    </tr>\n",
       "    <tr>\n",
       "      <th>1</th>\n",
       "      <td>0</td>\n",
       "      <td>15.26</td>\n",
       "    </tr>\n",
       "    <tr>\n",
       "      <th>2</th>\n",
       "      <td>150</td>\n",
       "      <td>15.22</td>\n",
       "    </tr>\n",
       "    <tr>\n",
       "      <th>3</th>\n",
       "      <td>300</td>\n",
       "      <td>15.19</td>\n",
       "    </tr>\n",
       "    <tr>\n",
       "      <th>4</th>\n",
       "      <td>450</td>\n",
       "      <td>15.15</td>\n",
       "    </tr>\n",
       "    <tr>\n",
       "      <th>5</th>\n",
       "      <td>-250</td>\n",
       "      <td>15.32</td>\n",
       "    </tr>\n",
       "    <tr>\n",
       "      <th>6</th>\n",
       "      <td>-350</td>\n",
       "      <td>15.34</td>\n",
       "    </tr>\n",
       "    <tr>\n",
       "      <th>7</th>\n",
       "      <td>-500</td>\n",
       "      <td>15.38</td>\n",
       "    </tr>\n",
       "    <tr>\n",
       "      <th>8</th>\n",
       "      <td>-650</td>\n",
       "      <td>15.40</td>\n",
       "    </tr>\n",
       "    <tr>\n",
       "      <th>9</th>\n",
       "      <td>-750</td>\n",
       "      <td>15.43</td>\n",
       "    </tr>\n",
       "    <tr>\n",
       "      <th>10</th>\n",
       "      <td>-850</td>\n",
       "      <td>15.45</td>\n",
       "    </tr>\n",
       "  </tbody>\n",
       "</table>\n",
       "</div>"
      ],
      "text/plain": [
       "    $\\Delta P, мм  H_{2}O$  $z, мм$\n",
       "0                     -100    15.27\n",
       "1                        0    15.26\n",
       "2                      150    15.22\n",
       "3                      300    15.19\n",
       "4                      450    15.15\n",
       "5                     -250    15.32\n",
       "6                     -350    15.34\n",
       "7                     -500    15.38\n",
       "8                     -650    15.40\n",
       "9                     -750    15.43\n",
       "10                    -850    15.45"
      ]
     },
     "execution_count": 11,
     "metadata": {},
     "output_type": "execute_result"
    }
   ],
   "source": [
    "data2 = pd.read_excel('lab-422.xlsx', 'table-2')\n",
    "pd.DataFrame(data2)"
   ]
  },
  {
   "cell_type": "code",
   "execution_count": 12,
   "metadata": {},
   "outputs": [
    {
     "data": {
      "image/png": "[encoded data removed]",
      "text/plain": [
       "<matplotlib.figure.Figure at 0x7f3912710550>"
      ]
     },
     "metadata": {},
     "output_type": "display_data"
    }
   ],
   "source": [
    "x2 = np.array(data2.values[:, 0], dtype = float)\n",
    "y2 = np.array(data2.values[:, 1], dtype = float)\n",
    "y2 = np.array([each - b1 for each in y2])\n",
    "\n",
    "k2, b2 = np.polyfit(x2, y2, deg = 1)\n",
    "\n",
    "plt.figure(figsize = (10, 6))\n",
    "plt.title('График зависимости $\\Delta z = f(\\Delta P)$', fontsize=16)\n",
    "plt.ylabel('$\\Delta z, мм$', fontsize=12)\n",
    "plt.xlabel('$\\Delta P, мм H_2O$', fontsize=12)\n",
    "\n",
    "plt.scatter(x2, y2)\n",
    "plt.plot(x2, x2 * k2 + b2)\n",
    "plt.grid(linestyle = '--')\n",
    "\n",
    "plt.show()"
   ]
  },
  {
   "cell_type": "code",
   "execution_count": 13,
   "metadata": {},
   "outputs": [
    {
     "name": "stdout",
     "output_type": "stream",
     "text": [
      "k2 = -0.00023076550387596872\n"
     ]
    }
   ],
   "source": [
    "print('k2 =', k2)"
   ]
  },
  {
   "cell_type": "markdown",
   "metadata": {},
   "source": [
    "Используя формулу $\\delta n = \\dfrac{\\Delta}{l} = m \\dfrac{\\lambda}{l}$, где $m$ – число полос, на которые сместилась картина, перейдем от делений компенсатора $\\Delta z$ к величине $\\delta n$."
   ]
  },
  {
   "cell_type": "markdown",
   "metadata": {},
   "source": [
    "$\\delta n = \\dfrac{\\Delta z}{d} \\dfrac{\\lambda}{l}$, $d$ – расстояние между соседними полосами  "
   ]
  },
  {
   "cell_type": "markdown",
   "metadata": {},
   "source": [
    "Следовательно, $\\dfrac{\\delta n}{\\Delta P} = \\dfrac{\\Delta z}{\\Delta P} \\dfrac{\\lambda}{dl}$."
   ]
  },
  {
   "cell_type": "code",
   "execution_count": 14,
   "metadata": {},
   "outputs": [
    {
     "name": "stdout",
     "output_type": "stream",
     "text": [
      "3.1117247016716403e-06 1/Б\n"
     ]
    }
   ],
   "source": [
    "result = math.fabs(k2 * Lambda * 10**(-6) / (distance * l * (10**(-2) * 1.0197)))\n",
    "print(result, '1/Б')"
   ]
  },
  {
   "cell_type": "markdown",
   "metadata": {},
   "source": [
    "Рассчитаем среднюю поляризуемость молекулы: $\\alpha = \\dfrac{\\delta n}{\\Delta P} \\dfrac{k_Б T}{2 \\pi}$"
   ]
  },
  {
   "cell_type": "code",
   "execution_count": 15,
   "metadata": {},
   "outputs": [
    {
     "name": "stdout",
     "output_type": "stream",
     "text": [
      "2.0376763229722413e-20\n"
     ]
    }
   ],
   "source": [
    "alpha = result * 1.38 * 10**(-16) * (25 + 273.15) / (2 * math.pi) \n",
    "print(alpha)"
   ]
  },
  {
   "cell_type": "markdown",
   "metadata": {
    "collapsed": true
   },
   "source": [
    "А также показатель преломления воздуха в условиях опыта по формуле $n - 1 = 2 \\pi \\alpha \\dfrac{P}{k_Б T}$"
   ]
  },
  {
   "cell_type": "code",
   "execution_count": 18,
   "metadata": {},
   "outputs": [
    {
     "name": "stdout",
     "output_type": "stream",
     "text": [
      "0.00031836988940213054\n"
     ]
    }
   ],
   "source": [
    "result_n = 2 * math.pi * alpha * 101.3 * 1.01 / (1.38 * 10**(-16) * 298.15)\n",
    "print(result_n)"
   ]
  },
  {
   "cell_type": "markdown",
   "metadata": {},
   "source": [
    "Сравним результаты с табличными, пересчитав для лабораторных условий значения коэффициента преломления воздуха по следующей формуле: $\\dfrac{n_0 - 1}{n - 1} = \\dfrac{T P_0}{T_0 P}$, где $P_0 = 1 атм, T_0 = 273 K$.  \n",
    "Тогда $n_0 - 1$:\n",
    "    "
   ]
  },
  {
   "cell_type": "code",
   "execution_count": 19,
   "metadata": {},
   "outputs": [
    {
     "data": {
      "text/plain": [
       "0.0002916610060630256"
      ]
     },
     "execution_count": 19,
     "metadata": {},
     "output_type": "execute_result"
    }
   ],
   "source": [
    "result_n * (273 / 298)"
   ]
  },
  {
   "cell_type": "markdown",
   "metadata": {},
   "source": [
    "Результаты совпадают с табличными (0.0002926) по порядку величины."
   ]
  },
  {
   "cell_type": "markdown",
   "metadata": {},
   "source": [
    "### Сравнение показателей преломления воздуха и углекислого газа при атмосферном давлении"
   ]
  },
  {
   "cell_type": "markdown",
   "metadata": {},
   "source": [
    "Определим новое положении нулевой полосы после впускания углекислого газа:  \n",
    "$z_0^{C O_2} = 16.44 мм$, следовательно: $\\Delta z = z_0^{C O_2} - z_0 = (16.44 - 15.26) мм= 1.18 мм$\n",
    "\n",
    "Рассчитаем показатель преломления углекислого газа по формуле $n = n_{возд} + \\dfrac{\\Delta}{l} = n_{возд}+ \\dfrac{m \\lambda}{l}$."
   ]
  },
  {
   "cell_type": "code",
   "execution_count": 21,
   "metadata": {},
   "outputs": [
    {
     "name": "stdout",
     "output_type": "stream",
     "text": [
      "0.00048061988940213067\n"
     ]
    }
   ],
   "source": [
    "n = result_n + Lambda * 10**(-6) * 1.18 / (distance * l)\n",
    "print(n)"
   ]
  },
  {
   "cell_type": "markdown",
   "metadata": {},
   "source": [
    "Сравним результаты с табличными, пересчитав для лабораторных условий значения коэффициента преломления воздуха:"
   ]
  },
  {
   "cell_type": "code",
   "execution_count": 23,
   "metadata": {},
   "outputs": [
    {
     "data": {
      "text/plain": [
       "0.00044029942888181765"
      ]
     },
     "execution_count": 23,
     "metadata": {},
     "output_type": "execute_result"
    }
   ],
   "source": [
    "n * (273 / 298)"
   ]
  },
  {
   "cell_type": "markdown",
   "metadata": {},
   "source": [
    "Результаты совпадают с табличными (0.0004506) по порядку величины."
   ]
  },
  {
   "cell_type": "markdown",
   "metadata": {},
   "source": [
    "Установка оказалась абсолютно герметичной (т.к. со временем полосы не смещались)."
   ]
  }
 ],
 "metadata": {
  "kernelspec": {
   "display_name": "Python 3",
   "language": "python",
   "name": "python3"
  },
  "language_info": {
   "codemirror_mode": {
    "name": "ipython",
    "version": 3
   },
   "file_extension": ".py",
   "mimetype": "text/x-python",
   "name": "python",
   "nbconvert_exporter": "python",
   "pygments_lexer": "ipython3",
   "version": "3.6.4"
  }
 },
 "nbformat": 4,
 "nbformat_minor": 2
}
