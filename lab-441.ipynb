{
 "cells": [
  {
   "cell_type": "markdown",
   "metadata": {},
   "source": [
    "# Обработка результатов"
   ]
  },
  {
   "cell_type": "code",
   "execution_count": 6,
   "metadata": {
    "collapsed": true
   },
   "outputs": [],
   "source": [
    "import numpy as np\n",
    "import scipy as ps\n",
    "import pandas as pd\n",
    "import matplotlib.pyplot as plt\n",
    "%matplotlib inline"
   ]
  },
  {
   "cell_type": "markdown",
   "metadata": {},
   "source": [
    "Измерим угловые координаты спектральный линий ртути. Результаты занесем в таблицу."
   ]
  },
  {
   "cell_type": "code",
   "execution_count": 190,
   "metadata": {},
   "outputs": [
    {
     "data": {
      "text/html": [
       "<div>\n",
       "<style>\n",
       "    .dataframe thead tr:only-child th {\n",
       "        text-align: right;\n",
       "    }\n",
       "\n",
       "    .dataframe thead th {\n",
       "        text-align: left;\n",
       "    }\n",
       "\n",
       "    .dataframe tbody tr th {\n",
       "        vertical-align: top;\n",
       "    }\n",
       "</style>\n",
       "<table border=\"1\" class=\"dataframe\">\n",
       "  <thead>\n",
       "    <tr style=\"text-align: right;\">\n",
       "      <th></th>\n",
       "      <th>цвет</th>\n",
       "      <th>phi1</th>\n",
       "      <th>phi2</th>\n",
       "      <th>sin(phi1)</th>\n",
       "      <th>sin(phi2)</th>\n",
       "      <th>lambda</th>\n",
       "    </tr>\n",
       "  </thead>\n",
       "  <tbody>\n",
       "    <tr>\n",
       "      <th>0</th>\n",
       "      <td>фиолетовый</td>\n",
       "      <td>182.5686</td>\n",
       "      <td>177.5281</td>\n",
       "      <td>-0.0448</td>\n",
       "      <td>0.0431</td>\n",
       "      <td>404.7</td>\n",
       "    </tr>\n",
       "    <tr>\n",
       "      <th>1</th>\n",
       "      <td>синий</td>\n",
       "      <td>182.7186</td>\n",
       "      <td>177.2056</td>\n",
       "      <td>-0.0474</td>\n",
       "      <td>0.0488</td>\n",
       "      <td>435.8</td>\n",
       "    </tr>\n",
       "    <tr>\n",
       "      <th>2</th>\n",
       "      <td>голубой</td>\n",
       "      <td>182.9125</td>\n",
       "      <td>177.1750</td>\n",
       "      <td>-0.0508</td>\n",
       "      <td>0.0493</td>\n",
       "      <td>491.6</td>\n",
       "    </tr>\n",
       "    <tr>\n",
       "      <th>3</th>\n",
       "      <td>зеленый</td>\n",
       "      <td>183.1992</td>\n",
       "      <td>176.8908</td>\n",
       "      <td>-0.0558</td>\n",
       "      <td>0.0542</td>\n",
       "      <td>546.1</td>\n",
       "    </tr>\n",
       "    <tr>\n",
       "      <th>4</th>\n",
       "      <td>желтый</td>\n",
       "      <td>183.3775</td>\n",
       "      <td>176.7100</td>\n",
       "      <td>-0.0589</td>\n",
       "      <td>0.0574</td>\n",
       "      <td>577.0</td>\n",
       "    </tr>\n",
       "    <tr>\n",
       "      <th>5</th>\n",
       "      <td>желтый</td>\n",
       "      <td>183.3900</td>\n",
       "      <td>176.6994</td>\n",
       "      <td>-0.0591</td>\n",
       "      <td>0.0576</td>\n",
       "      <td>579.1</td>\n",
       "    </tr>\n",
       "    <tr>\n",
       "      <th>6</th>\n",
       "      <td>красный</td>\n",
       "      <td>183.6481</td>\n",
       "      <td>176.4369</td>\n",
       "      <td>-0.0636</td>\n",
       "      <td>0.0621</td>\n",
       "      <td>623.4</td>\n",
       "    </tr>\n",
       "  </tbody>\n",
       "</table>\n",
       "</div>"
      ],
      "text/plain": [
       "         цвет      phi1      phi2  sin(phi1)  sin(phi2)  lambda\n",
       "0  фиолетовый  182.5686  177.5281    -0.0448     0.0431   404.7\n",
       "1       синий  182.7186  177.2056    -0.0474     0.0488   435.8\n",
       "2     голубой  182.9125  177.1750    -0.0508     0.0493   491.6\n",
       "3     зеленый  183.1992  176.8908    -0.0558     0.0542   546.1\n",
       "4      желтый  183.3775  176.7100    -0.0589     0.0574   577.0\n",
       "5      желтый  183.3900  176.6994    -0.0591     0.0576   579.1\n",
       "6     красный  183.6481  176.4369    -0.0636     0.0621   623.4"
      ]
     },
     "execution_count": 190,
     "metadata": {},
     "output_type": "execute_result"
    }
   ],
   "source": [
    "data = pd.read_excel('lab-441.xlsx', 'table1')\n",
    "data.head(len(data))"
   ]
  },
  {
   "cell_type": "markdown",
   "metadata": {},
   "source": [
    "Построим график зависимости $sin(\\phi_m)$ от длины волны $\\lambda$."
   ]
  },
  {
   "cell_type": "code",
   "execution_count": 191,
   "metadata": {
    "collapsed": true
   },
   "outputs": [],
   "source": [
    "x = data.values[:, 5]   # lambda\n",
    "y1 = data.values[:, 3]  # sin(phi1)\n",
    "y2 = data.values[:, 4]  # sin(phi2)\n",
    "\n",
    "x = np.array(x, dtype=float)\n",
    "y1 = np.array(y1, dtype=float)\n",
    "y2 = np.array(y2, dtype=float)\n",
    "\n",
    "k1, b1 = np.polyfit(x, y1, deg=1)\n",
    "k2, b2 = np.polyfit(x, y2, deg=1)"
   ]
  },
  {
   "cell_type": "code",
   "execution_count": 193,
   "metadata": {},
   "outputs": [
    {
     "data": {
      "image/png": "[encoded data removed]",
      "text/plain": [
       "<matplotlib.figure.Figure at 0x11cc15048>"
      ]
     },
     "metadata": {},
     "output_type": "display_data"
    }
   ],
   "source": [
    "plt.figure(figsize=(12, 6))\n",
    "plt.grid(linestyle='--')\n",
    "\n",
    "plt.title('Зависимость $sin(\\phi_m)$ от $\\lambda$', fontweight='bold', fontsize=18)\n",
    "plt.ylabel('$sin(\\phi_m)$', fontsize=15)\n",
    "plt.xlabel('$\\lambda$, нм', fontsize=15)\n",
    "\n",
    "plt.scatter(x, y1)\n",
    "plt.scatter(x, y2)\n",
    "\n",
    "plt.plot(x, k1 * x + b1, label='$\\phi_1$')\n",
    "plt.plot(x, k2 * x + b2, label='$\\phi_2$')\n",
    "\n",
    "#plt.errorbar(x, y, xerr=dx, yerr=dy, fmt='o')\n",
    "\n",
    "plt.xlim((400, 650))\n",
    "plt.ylim((-0.07, 0.07))\n",
    "\n",
    "plt.legend()\n",
    "plt.show()"
   ]
  },
  {
   "cell_type": "markdown",
   "metadata": {},
   "source": [
    "По углу наклона определим шаг решетки, используя формулу  $d \\sin(\\phi_m) = m \\lambda$."
   ]
  },
  {
   "cell_type": "code",
   "execution_count": 194,
   "metadata": {},
   "outputs": [
    {
     "name": "stdout",
     "output_type": "stream",
     "text": [
      "Значение для 1го порядка:  11819.5631651 нм\n",
      "Значение для -1го порядка:  12700.1250507 нм\n"
     ]
    }
   ],
   "source": [
    "d1 = -1 / k1\n",
    "d2 = 1 / k2\n",
    "\n",
    "print('Значение для 1го порядка: ', d1, 'нм')\n",
    "print('Значение для -1го порядка: ', d2, 'нм')"
   ]
  },
  {
   "cell_type": "code",
   "execution_count": 195,
   "metadata": {},
   "outputs": [
    {
     "name": "stdout",
     "output_type": "stream",
     "text": [
      "Усредненное значение:  12259.8441079 нм\n"
     ]
    }
   ],
   "source": [
    "print('Усредненное значение: ', (d1 + d2) / 2, 'нм')"
   ]
  },
  {
   "cell_type": "markdown",
   "metadata": {},
   "source": [
    "Для оценки дисперсии решетки определим угловые координаты линий желтого дуплета во всех видимых порядках."
   ]
  },
  {
   "cell_type": "code",
   "execution_count": 196,
   "metadata": {},
   "outputs": [
    {
     "data": {
      "text/html": [
       "<div>\n",
       "<style>\n",
       "    .dataframe thead tr:only-child th {\n",
       "        text-align: right;\n",
       "    }\n",
       "\n",
       "    .dataframe thead th {\n",
       "        text-align: left;\n",
       "    }\n",
       "\n",
       "    .dataframe tbody tr th {\n",
       "        vertical-align: top;\n",
       "    }\n",
       "</style>\n",
       "<table border=\"1\" class=\"dataframe\">\n",
       "  <thead>\n",
       "    <tr style=\"text-align: right;\">\n",
       "      <th></th>\n",
       "      <th>m</th>\n",
       "      <th>first</th>\n",
       "      <th>second</th>\n",
       "      <th>delta phi</th>\n",
       "      <th>D_exp</th>\n",
       "      <th>D_th</th>\n",
       "    </tr>\n",
       "  </thead>\n",
       "  <tbody>\n",
       "    <tr>\n",
       "      <th>0</th>\n",
       "      <td>-2</td>\n",
       "      <td>173.359167</td>\n",
       "      <td>173.340000</td>\n",
       "      <td>0.019167</td>\n",
       "      <td>-32.857143</td>\n",
       "      <td>-32.626844</td>\n",
       "    </tr>\n",
       "    <tr>\n",
       "      <th>1</th>\n",
       "      <td>-3</td>\n",
       "      <td>180.988056</td>\n",
       "      <td>180.950556</td>\n",
       "      <td>0.037500</td>\n",
       "      <td>-64.285714</td>\n",
       "      <td>-48.940270</td>\n",
       "    </tr>\n",
       "    <tr>\n",
       "      <th>2</th>\n",
       "      <td>-4</td>\n",
       "      <td>166.583611</td>\n",
       "      <td>166.526944</td>\n",
       "      <td>0.056667</td>\n",
       "      <td>-97.142857</td>\n",
       "      <td>-65.253700</td>\n",
       "    </tr>\n",
       "    <tr>\n",
       "      <th>3</th>\n",
       "      <td>2</td>\n",
       "      <td>186.721944</td>\n",
       "      <td>186.744722</td>\n",
       "      <td>0.022778</td>\n",
       "      <td>39.047619</td>\n",
       "      <td>32.626844</td>\n",
       "    </tr>\n",
       "    <tr>\n",
       "      <th>4</th>\n",
       "      <td>3</td>\n",
       "      <td>190.091111</td>\n",
       "      <td>190.124722</td>\n",
       "      <td>0.033611</td>\n",
       "      <td>57.619048</td>\n",
       "      <td>48.940270</td>\n",
       "    </tr>\n",
       "    <tr>\n",
       "      <th>5</th>\n",
       "      <td>4</td>\n",
       "      <td>193.483333</td>\n",
       "      <td>193.537778</td>\n",
       "      <td>0.054444</td>\n",
       "      <td>93.333333</td>\n",
       "      <td>65.253700</td>\n",
       "    </tr>\n",
       "  </tbody>\n",
       "</table>\n",
       "</div>"
      ],
      "text/plain": [
       "   m       first      second  delta phi      D_exp       D_th\n",
       "0 -2  173.359167  173.340000   0.019167 -32.857143 -32.626844\n",
       "1 -3  180.988056  180.950556   0.037500 -64.285714 -48.940270\n",
       "2 -4  166.583611  166.526944   0.056667 -97.142857 -65.253700\n",
       "3  2  186.721944  186.744722   0.022778  39.047619  32.626844\n",
       "4  3  190.091111  190.124722   0.033611  57.619048  48.940270\n",
       "5  4  193.483333  193.537778   0.054444  93.333333  65.253700"
      ]
     },
     "execution_count": 196,
     "metadata": {},
     "output_type": "execute_result"
    }
   ],
   "source": [
    "data2 = pd.read_excel('lab-441.xlsx', 'table2')\n",
    "data2.head(len(data2))"
   ]
  },
  {
   "cell_type": "code",
   "execution_count": 197,
   "metadata": {
    "collapsed": true
   },
   "outputs": [],
   "source": [
    "x3 = data2.values[:, 0]\n",
    "y3 = data2.values[:, 4]\n",
    "y4 = data2.values[:, 5]\n",
    "\n",
    "x3 = np.array(x3, dtype=float)\n",
    "y3 = np.array(y3, dtype=float)\n",
    "y4 = np.array(y4, dtype=float)\n",
    "\n",
    "# k1, b1 = np.polyfit(x, y1, deg=1)\n",
    "# k2, b2 = np.polyfit(x, y2, deg=1)"
   ]
  },
  {
   "cell_type": "code",
   "execution_count": 198,
   "metadata": {},
   "outputs": [
    {
     "data": {
      "image/png": "[encoded data removed]",
      "text/plain": [
       "<matplotlib.figure.Figure at 0x11cc6f6a0>"
      ]
     },
     "metadata": {},
     "output_type": "display_data"
    }
   ],
   "source": [
    "plt.figure(figsize=(12, 6))\n",
    "plt.grid(linestyle='--')\n",
    "\n",
    "plt.title('Зависимость $D$ от $m$', fontweight='bold', fontsize=18)\n",
    "plt.ylabel('$D$, сек/ангстрем', fontsize=15)\n",
    "plt.xlabel('$m$', fontsize=15)\n",
    "\n",
    "plt.scatter(x3, y3, label='experimental')\n",
    "plt.scatter(x3, y4, label='theoretical')\n",
    "\n",
    "# plt.plot(x, k2 * x + b2, label='$\\phi_2$')\n",
    "\n",
    "#plt.errorbar(x, y, xerr=dx, yerr=dy, fmt='o')\n",
    "\n",
    "plt.xlim((-5, 5))\n",
    "plt.ylim((-100, 100))\n",
    "\n",
    "plt.legend()\n",
    "plt.show()"
   ]
  },
  {
   "cell_type": "markdown",
   "metadata": {},
   "source": [
    "Оценим экспериментальную разрешающую способность ($R = \\dfrac{\\lambda}{\\delta\\lambda} = \\dfrac{\\phi}{\\delta\\phi}$).  \n",
    "Знаем, что $\\delta\\lambda = \\dfrac{\\delta\\phi}{D}$, тогда $R = \\dfrac{\\lambda D}{\\delta\\phi} = 274.8$.  \n",
    "Сравнив ее с теоретической по формуле $R = mN$, оценим число эффектично работающих штрихов $N \\approx 275.$ Тогда размер освещенной части решетки $\\approx 0.55$ мм."
   ]
  }
 ],
 "metadata": {
  "kernelspec": {
   "display_name": "Python 3",
   "language": "python",
   "name": "python3"
  },
  "language_info": {
   "codemirror_mode": {
    "name": "ipython",
    "version": 3
   },
   "file_extension": ".py",
   "mimetype": "text/x-python",
   "name": "python",
   "nbconvert_exporter": "python",
   "pygments_lexer": "ipython3",
   "version": "3.6.3"
  }
 },
 "nbformat": 4,
 "nbformat_minor": 2
}
