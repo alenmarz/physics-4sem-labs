{
 "cells": [
  {
   "cell_type": "markdown",
   "metadata": {},
   "source": [
    "## Лабораторная работа 4.7.2\n",
    "# Эффект Поккельса"
   ]
  },
  {
   "cell_type": "code",
   "execution_count": 1,
   "metadata": {
    "collapsed": true
   },
   "outputs": [],
   "source": [
    "import numpy as np\n",
    "import scipy as ps\n",
    "import pandas as pd\n",
    "import math\n",
    "import matplotlib.pyplot as plt\n",
    "%matplotlib inline"
   ]
  },
  {
   "cell_type": "markdown",
   "metadata": {},
   "source": [
    "<img src='lab-472.png' width=70%>"
   ]
  },
  {
   "cell_type": "markdown",
   "metadata": {},
   "source": [
    "Соберем оптическую систему согласно рис.1. Измерим радиусы темных колец $r(m)$ и расстояние $L$ от середины кристалла до экрана.  \n",
    "Результаты измерений занесем в таблицу."
   ]
  },
  {
   "cell_type": "code",
   "execution_count": 2,
   "metadata": {},
   "outputs": [
    {
     "data": {
      "text/html": [
       "<div>\n",
       "<style>\n",
       "    .dataframe thead tr:only-child th {\n",
       "        text-align: right;\n",
       "    }\n",
       "\n",
       "    .dataframe thead th {\n",
       "        text-align: left;\n",
       "    }\n",
       "\n",
       "    .dataframe tbody tr th {\n",
       "        vertical-align: top;\n",
       "    }\n",
       "</style>\n",
       "<table border=\"1\" class=\"dataframe\">\n",
       "  <thead>\n",
       "    <tr style=\"text-align: right;\">\n",
       "      <th></th>\n",
       "      <th>m</th>\n",
       "      <th>r, см</th>\n",
       "    </tr>\n",
       "  </thead>\n",
       "  <tbody>\n",
       "    <tr>\n",
       "      <th>0</th>\n",
       "      <td>1</td>\n",
       "      <td>2.2</td>\n",
       "    </tr>\n",
       "    <tr>\n",
       "      <th>1</th>\n",
       "      <td>2</td>\n",
       "      <td>3.1</td>\n",
       "    </tr>\n",
       "    <tr>\n",
       "      <th>2</th>\n",
       "      <td>3</td>\n",
       "      <td>3.7</td>\n",
       "    </tr>\n",
       "    <tr>\n",
       "      <th>3</th>\n",
       "      <td>4</td>\n",
       "      <td>4.5</td>\n",
       "    </tr>\n",
       "    <tr>\n",
       "      <th>4</th>\n",
       "      <td>5</td>\n",
       "      <td>5.0</td>\n",
       "    </tr>\n",
       "    <tr>\n",
       "      <th>5</th>\n",
       "      <td>6</td>\n",
       "      <td>5.4</td>\n",
       "    </tr>\n",
       "    <tr>\n",
       "      <th>6</th>\n",
       "      <td>7</td>\n",
       "      <td>5.9</td>\n",
       "    </tr>\n",
       "  </tbody>\n",
       "</table>\n",
       "</div>"
      ],
      "text/plain": [
       "   m  r, см\n",
       "0  1    2.2\n",
       "1  2    3.1\n",
       "2  3    3.7\n",
       "3  4    4.5\n",
       "4  5    5.0\n",
       "5  6    5.4\n",
       "6  7    5.9"
      ]
     },
     "execution_count": 2,
     "metadata": {},
     "output_type": "execute_result"
    }
   ],
   "source": [
    "data = pd.read_excel('lab-472.xlsx', 'table1')\n",
    "pd.DataFrame(data)"
   ]
  },
  {
   "cell_type": "code",
   "execution_count": 3,
   "metadata": {},
   "outputs": [
    {
     "data": {
      "image/png": "[encoded data removed]",
      "text/plain": [
       "<matplotlib.figure.Figure at 0x10ba02a58>"
      ]
     },
     "metadata": {},
     "output_type": "display_data"
    }
   ],
   "source": [
    "x = np.array(data.values[:, 0], dtype = float)\n",
    "y = np.array(data.values[:, 1], dtype = float)\n",
    "y = [each ** 2 for each in y]\n",
    "\n",
    "k, b = np.polyfit(x, y, deg = 1)\n",
    "\n",
    "plt.figure(figsize = (8, 6))\n",
    "plt.title('График зависимости $r^2 = f(m)$', fontsize=16)\n",
    "plt.ylabel('$r^2$, $см^2$', fontsize=12)\n",
    "plt.xlabel('$m$', fontsize=12)\n",
    "\n",
    "plt.scatter(x, y)\n",
    "plt.plot(x, x * k + b)\n",
    "plt.grid(linestyle = '--')\n",
    "\n",
    "plt.show()"
   ]
  },
  {
   "cell_type": "code",
   "execution_count": 4,
   "metadata": {},
   "outputs": [
    {
     "name": "stdout",
     "output_type": "stream",
     "text": [
      "k = 5.01142857143\n"
     ]
    }
   ],
   "source": [
    "print('k =', k)"
   ]
  },
  {
   "cell_type": "markdown",
   "metadata": {},
   "source": [
    "Из графика найдем двулучепреломление $(n_0 - n_e)$ по формуле $(n_0 - n_e) = \\dfrac{\\lambda (n_0 L)^2}{l \\cdot tg  \\alpha}$,  \n",
    "зная $L = 0.625м,  \\lambda = 6.3 \\cdot 10^{-7}м,  n_0 = 2.29,  l = 2.6 \\cdot 10^{-2}м$."
   ]
  },
  {
   "cell_type": "code",
   "execution_count": 5,
   "metadata": {},
   "outputs": [
    {
     "data": {
      "text/plain": [
       "0.099045935012553696"
      ]
     },
     "execution_count": 5,
     "metadata": {},
     "output_type": "execute_result"
    }
   ],
   "source": [
    "6.3 * 10 ** (-7) * (2.29 * 0.625) ** 2 / (2.6 * 10 ** (-2) * k * (10) ** (-4))"
   ]
  },
  {
   "cell_type": "markdown",
   "metadata": {},
   "source": [
    "Таким образом, $(n_0 - n_e) = 0.099$."
   ]
  },
  {
   "cell_type": "markdown",
   "metadata": {},
   "source": [
    "Определим теперь полуволновое напряжение ниобата лития: $U_{\\lambda / 2} = 480 В$. Подав на кристалл напряжение $\\dfrac{1}{2} U_{\\lambda / 2} = U_{\\lambda / 4} = 240В$, поляризация окажется круговой.\n",
    "\n",
    "Добавим в систему фотодиод. Постепенно повышая напряжение на кристалле, наблюдаем изменение фигур Лиссажу на экране осциллографа.\n",
    "\n",
    "Зарисуем фигуры Лиссажу для напряжений $U_{\\lambda / 2}, U_{\\lambda}, U_{3 \\lambda / 2}.$"
   ]
  },
  {
   "cell_type": "markdown",
   "metadata": {},
   "source": [
    "![figure1](figure1.png)\n",
    "<center>$U = U_{\\lambda / 2}$</center>"
   ]
  },
  {
   "cell_type": "markdown",
   "metadata": {},
   "source": [
    "<img src='figure2.png' high=70%>\n",
    "<center>$U = U_{\\lambda}$</center>"
   ]
  },
  {
   "cell_type": "markdown",
   "metadata": {},
   "source": [
    "<img src='figure3.png' high=70%>\n",
    "<center>$U = U_{3 \\lambda / 2}$</center>"
   ]
  },
  {
   "cell_type": "markdown",
   "metadata": {},
   "source": [
    "При переходе от скрещенных поляризаций к параллельным фигуры отражаются относительно горизонтальной оси, не меняя при этом своих форм."
   ]
  }
 ],
 "metadata": {
  "kernelspec": {
   "display_name": "Python 3",
   "language": "python",
   "name": "python3"
  },
  "language_info": {
   "codemirror_mode": {
    "name": "ipython",
    "version": 3
   },
   "file_extension": ".py",
   "mimetype": "text/x-python",
   "name": "python",
   "nbconvert_exporter": "python",
   "pygments_lexer": "ipython3",
   "version": "3.6.3"
  }
 },
 "nbformat": 4,
 "nbformat_minor": 2
}
